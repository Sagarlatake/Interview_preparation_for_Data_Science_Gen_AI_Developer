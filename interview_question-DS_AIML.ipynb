{
 "cells": [
  {
   "cell_type": "code",
   "id": "initial_id",
   "metadata": {
    "collapsed": true,
    "ExecuteTime": {
     "end_time": "2025-09-07T18:15:05.299036Z",
     "start_time": "2025-09-07T18:15:05.290842Z"
    }
   },
   "source": "# String Manipulation: Write a function to check palindrome, check if it's an anagram, or count character occurrences.",
   "outputs": [],
   "execution_count": 1
  },
  {
   "metadata": {
    "ExecuteTime": {
     "end_time": "2025-09-07T18:24:03.994614Z",
     "start_time": "2025-09-07T18:24:03.978061Z"
    }
   },
   "cell_type": "code",
   "source": [
    "def check_palindrome(s):\n",
    "    s = s.lower()\n",
    "    if s == s[::-1]:\n",
    "        return True\n",
    "\n",
    "str1 = 'Madam'\n",
    "print(f'check_palindrome: {str1} : {check_palindrome(str1)}')\n",
    "\n",
    "def check_anagram(s,s1):\n",
    "    s = s.replace(\" \",'').lower()\n",
    "    s1 = s1.replace(' ','').lower()\n",
    "    if sorted(s) == sorted(s1):\n",
    "        return True\n",
    "    else:\n",
    "        return False\n",
    "\n",
    "print('Check string for anagrams')\n",
    "s = 'listen'\n",
    "s1 = 'silent'\n",
    "\n",
    "print(f'{s} and {s1} are anagrams or not: {check_anagram(s,s1)}')\n",
    "\n",
    "s = 'Hello'\n",
    "s1 = 'world'\n",
    "\n",
    "print(f'{s} and {s1} are anagrams or not: {check_anagram(s,s1)}')\n",
    "from collections import Counter\n",
    "\n",
    "def count_char(s):\n",
    "    print(s)\n",
    "    return Counter(s)\n",
    "\n",
    "s = 'This is sample string for char count'\n",
    "print(f'character count: {count_char(s)}')\n"
   ],
   "id": "cc038f0d82a7201c",
   "outputs": [
    {
     "name": "stdout",
     "output_type": "stream",
     "text": [
      "check_palindrome: Madam : True\n",
      "Check string for anagrams\n",
      "listen and silent are anagrams or not: True\n",
      "Hello and world are anagrams or not: False\n",
      "This is sample string for char count\n",
      "character count: Counter({' ': 6, 's': 4, 'i': 3, 'r': 3, 'h': 2, 'a': 2, 't': 2, 'n': 2, 'o': 2, 'c': 2, 'T': 1, 'm': 1, 'p': 1, 'l': 1, 'e': 1, 'g': 1, 'f': 1, 'u': 1})\n"
     ]
    }
   ],
   "execution_count": 8
  },
  {
   "metadata": {
    "ExecuteTime": {
     "end_time": "2025-09-07T18:27:21.624632Z",
     "start_time": "2025-09-07T18:27:21.619175Z"
    }
   },
   "cell_type": "code",
   "source": "# Mathematical Problems: Implement Fibonacci sequence, prime number checks, or factorial calculations.",
   "id": "6042b0e2ef20e276",
   "outputs": [],
   "execution_count": 9
  },
  {
   "metadata": {
    "ExecuteTime": {
     "end_time": "2025-09-07T18:50:04.843108Z",
     "start_time": "2025-09-07T18:50:04.832062Z"
    }
   },
   "cell_type": "code",
   "source": [
    "def fibonacci_series(n):\n",
    "    series = []\n",
    "    a, b = 0, 1\n",
    "    for _ in range(n):\n",
    "        series.append(a)\n",
    "        a, b = b, a + b\n",
    "\n",
    "    return series\n",
    "\n",
    "\n",
    "print(f'Fibonacci series: {fibonacci_series(10)}')\n",
    "\n",
    "\n",
    "def is_prime(n):\n",
    "    if n < 2:\n",
    "        return False\n",
    "    for i in range(2, int(n**0.5)+1):\n",
    "        if n % i == 0:\n",
    "            return False\n",
    "    return True\n",
    "print(f'is_prime: {is_prime(18)}')\n",
    "\n",
    "\n",
    "def factorial(n):\n",
    "    if n < 2:\n",
    "        return 1\n",
    "    else:\n",
    "        return n * factorial(n-1)\n",
    "\n",
    "print(f'factorial of 5: {factorial(5)}')"
   ],
   "id": "2f20ce8c6ef6a67a",
   "outputs": [
    {
     "name": "stdout",
     "output_type": "stream",
     "text": [
      "Fibonacci series: [0, 1, 1, 2, 3, 5, 8, 13, 21, 34]\n",
      "is_prime: False\n",
      "factorial of 5: 120\n"
     ]
    }
   ],
   "execution_count": 20
  },
  {
   "metadata": {},
   "cell_type": "code",
   "outputs": [],
   "execution_count": null,
   "source": "",
   "id": "4c493bb32b422798"
  }
 ],
 "metadata": {
  "kernelspec": {
   "display_name": "Python 3",
   "language": "python",
   "name": "python3"
  },
  "language_info": {
   "codemirror_mode": {
    "name": "ipython",
    "version": 2
   },
   "file_extension": ".py",
   "mimetype": "text/x-python",
   "name": "python",
   "nbconvert_exporter": "python",
   "pygments_lexer": "ipython2",
   "version": "2.7.6"
  }
 },
 "nbformat": 4,
 "nbformat_minor": 5
}
