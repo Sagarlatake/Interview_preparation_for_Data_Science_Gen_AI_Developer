{
 "cells": [
  {
   "cell_type": "code",
   "id": "initial_id",
   "metadata": {
    "collapsed": true,
    "ExecuteTime": {
     "end_time": "2025-09-07T18:15:05.299036Z",
     "start_time": "2025-09-07T18:15:05.290842Z"
    }
   },
   "source": "# String Manipulation: Write a function to check palindrome, check if it's an anagram, or count character occurrences.",
   "outputs": [],
   "execution_count": 1
  },
  {
   "metadata": {
    "ExecuteTime": {
     "end_time": "2025-09-07T18:24:03.994614Z",
     "start_time": "2025-09-07T18:24:03.978061Z"
    }
   },
   "cell_type": "code",
   "source": [
    "def check_palindrome(s):\n",
    "    s = s.lower()\n",
    "    if s == s[::-1]:\n",
    "        return True\n",
    "\n",
    "str1 = 'Madam'\n",
    "print(f'check_palindrome: {str1} : {check_palindrome(str1)}')\n",
    "\n",
    "def check_anagram(s,s1):\n",
    "    s = s.replace(\" \",'').lower()\n",
    "    s1 = s1.replace(' ','').lower()\n",
    "    if sorted(s) == sorted(s1):\n",
    "        return True\n",
    "    else:\n",
    "        return False\n",
    "\n",
    "print('Check string for anagrams')\n",
    "s = 'listen'\n",
    "s1 = 'silent'\n",
    "\n",
    "print(f'{s} and {s1} are anagrams or not: {check_anagram(s,s1)}')\n",
    "\n",
    "s = 'Hello'\n",
    "s1 = 'world'\n",
    "\n",
    "print(f'{s} and {s1} are anagrams or not: {check_anagram(s,s1)}')\n",
    "from collections import Counter\n",
    "\n",
    "def count_char(s):\n",
    "    print(s)\n",
    "    return Counter(s)\n",
    "\n",
    "s = 'This is sample string for char count'\n",
    "print(f'character count: {count_char(s)}')\n"
   ],
   "id": "cc038f0d82a7201c",
   "outputs": [
    {
     "name": "stdout",
     "output_type": "stream",
     "text": [
      "check_palindrome: Madam : True\n",
      "Check string for anagrams\n",
      "listen and silent are anagrams or not: True\n",
      "Hello and world are anagrams or not: False\n",
      "This is sample string for char count\n",
      "character count: Counter({' ': 6, 's': 4, 'i': 3, 'r': 3, 'h': 2, 'a': 2, 't': 2, 'n': 2, 'o': 2, 'c': 2, 'T': 1, 'm': 1, 'p': 1, 'l': 1, 'e': 1, 'g': 1, 'f': 1, 'u': 1})\n"
     ]
    }
   ],
   "execution_count": 8
  },
  {
   "metadata": {},
   "cell_type": "code",
   "outputs": [],
   "execution_count": null,
   "source": "",
   "id": "6042b0e2ef20e276"
  }
 ],
 "metadata": {
  "kernelspec": {
   "display_name": "Python 3",
   "language": "python",
   "name": "python3"
  },
  "language_info": {
   "codemirror_mode": {
    "name": "ipython",
    "version": 2
   },
   "file_extension": ".py",
   "mimetype": "text/x-python",
   "name": "python",
   "nbconvert_exporter": "python",
   "pygments_lexer": "ipython2",
   "version": "2.7.6"
  }
 },
 "nbformat": 4,
 "nbformat_minor": 5
}
